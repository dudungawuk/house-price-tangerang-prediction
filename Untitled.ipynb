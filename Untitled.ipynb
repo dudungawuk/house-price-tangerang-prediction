{
 "cells": [
  {
   "cell_type": "code",
   "execution_count": 1,
   "id": "ea4c4f95-6788-4a31-82b0-4a83664734da",
   "metadata": {},
   "outputs": [],
   "source": [
    "import pandas as pd\n",
    "import numpy as np\n",
    "import matplotlib.pyplot as plt\n",
    "import seaborn as sns"
   ]
  },
  {
   "cell_type": "code",
   "execution_count": 2,
   "id": "35698a1f-6a3e-485b-98ff-46cc21c72379",
   "metadata": {},
   "outputs": [
    {
     "data": {
      "text/html": [
       "<div>\n",
       "<style scoped>\n",
       "    .dataframe tbody tr th:only-of-type {\n",
       "        vertical-align: middle;\n",
       "    }\n",
       "\n",
       "    .dataframe tbody tr th {\n",
       "        vertical-align: top;\n",
       "    }\n",
       "\n",
       "    .dataframe thead th {\n",
       "        text-align: right;\n",
       "    }\n",
       "</style>\n",
       "<table border=\"1\" class=\"dataframe\">\n",
       "  <thead>\n",
       "    <tr style=\"text-align: right;\">\n",
       "      <th></th>\n",
       "      <th>nav-link href</th>\n",
       "      <th>listing-location</th>\n",
       "      <th>price</th>\n",
       "      <th>bed</th>\n",
       "      <th>bath</th>\n",
       "      <th>listing-floorarea</th>\n",
       "      <th>listing-floorarea 2</th>\n",
       "    </tr>\n",
       "  </thead>\n",
       "  <tbody>\n",
       "    <tr>\n",
       "      <th>0</th>\n",
       "      <td>https://www.rumah.com/listing-properti/dijual-...</td>\n",
       "      <td>Gading Serpong, Tangerang Selatan, Banten</td>\n",
       "      <td>6,9 M</td>\n",
       "      <td>5.0</td>\n",
       "      <td>5.0</td>\n",
       "      <td>420 mĠ</td>\n",
       "      <td>Rp 20.720.721 per mĠ</td>\n",
       "    </tr>\n",
       "    <tr>\n",
       "      <th>1</th>\n",
       "      <td>https://www.rumah.com/listing-properti/dijual-...</td>\n",
       "      <td>Gading Serpong, Tangerang Selatan, Banten</td>\n",
       "      <td>4,5 M</td>\n",
       "      <td>3.0</td>\n",
       "      <td>3.0</td>\n",
       "      <td>190 mĠ</td>\n",
       "      <td>Rp 12.747.875 per mĠ</td>\n",
       "    </tr>\n",
       "    <tr>\n",
       "      <th>2</th>\n",
       "      <td>https://www.rumah.com/listing-properti/dijual-...</td>\n",
       "      <td>Gading Serpong, Tangerang Selatan, Banten</td>\n",
       "      <td>3,95 M</td>\n",
       "      <td>3.0</td>\n",
       "      <td>3.0</td>\n",
       "      <td>132 mĠ</td>\n",
       "      <td>Rp 30.859.375 per mĠ</td>\n",
       "    </tr>\n",
       "    <tr>\n",
       "      <th>3</th>\n",
       "      <td>https://www.rumah.com/listing-properti/dijual-...</td>\n",
       "      <td>Gading Serpong, Tangerang Selatan, Banten</td>\n",
       "      <td>3,3 M</td>\n",
       "      <td>4.0</td>\n",
       "      <td>3.0</td>\n",
       "      <td>220 mĠ</td>\n",
       "      <td>Rp 18.333.333 per mĠ</td>\n",
       "    </tr>\n",
       "    <tr>\n",
       "      <th>4</th>\n",
       "      <td>https://www.rumah.com/listing-properti/dijual-...</td>\n",
       "      <td>Gading Serpong, Tangerang Selatan, Banten</td>\n",
       "      <td>3,5 M</td>\n",
       "      <td>3.0</td>\n",
       "      <td>2.0</td>\n",
       "      <td>180 mĠ</td>\n",
       "      <td>Rp 27.777.778 per mĠ</td>\n",
       "    </tr>\n",
       "  </tbody>\n",
       "</table>\n",
       "</div>"
      ],
      "text/plain": [
       "                                       nav-link href  \\\n",
       "0  https://www.rumah.com/listing-properti/dijual-...   \n",
       "1  https://www.rumah.com/listing-properti/dijual-...   \n",
       "2  https://www.rumah.com/listing-properti/dijual-...   \n",
       "3  https://www.rumah.com/listing-properti/dijual-...   \n",
       "4  https://www.rumah.com/listing-properti/dijual-...   \n",
       "\n",
       "                            listing-location   price  bed  bath  \\\n",
       "0  Gading Serpong, Tangerang Selatan, Banten   6,9 M  5.0   5.0   \n",
       "1  Gading Serpong, Tangerang Selatan, Banten   4,5 M  3.0   3.0   \n",
       "2  Gading Serpong, Tangerang Selatan, Banten  3,95 M  3.0   3.0   \n",
       "3  Gading Serpong, Tangerang Selatan, Banten   3,3 M  4.0   3.0   \n",
       "4  Gading Serpong, Tangerang Selatan, Banten   3,5 M  3.0   2.0   \n",
       "\n",
       "  listing-floorarea   listing-floorarea 2  \n",
       "0            420 mĠ  Rp 20.720.721 per mĠ  \n",
       "1            190 mĠ  Rp 12.747.875 per mĠ  \n",
       "2            132 mĠ  Rp 30.859.375 per mĠ  \n",
       "3            220 mĠ  Rp 18.333.333 per mĠ  \n",
       "4            180 mĠ  Rp 27.777.778 per mĠ  "
      ]
     },
     "execution_count": 2,
     "metadata": {},
     "output_type": "execute_result"
    }
   ],
   "source": [
    "df = pd.read_csv(\"data/190623_rumahcom_tangsel_city_unfiltered.csv\", encoding = \"latin8\")\n",
    "df.head()"
   ]
  },
  {
   "cell_type": "code",
   "execution_count": 3,
   "id": "f9f2b09d-72ac-4576-bdf1-38be87c79eb2",
   "metadata": {},
   "outputs": [
    {
     "data": {
      "text/plain": [
       "(29420, 7)"
      ]
     },
     "execution_count": 3,
     "metadata": {},
     "output_type": "execute_result"
    }
   ],
   "source": [
    "df.shape"
   ]
  },
  {
   "cell_type": "code",
   "execution_count": 4,
   "id": "f49a09f8-0417-4633-ba16-2e724fd353b5",
   "metadata": {},
   "outputs": [
    {
     "data": {
      "text/plain": [
       "nav-link href            0\n",
       "listing-location         0\n",
       "price                    0\n",
       "bed                    138\n",
       "bath                   205\n",
       "listing-floorarea        0\n",
       "listing-floorarea 2     37\n",
       "dtype: int64"
      ]
     },
     "execution_count": 4,
     "metadata": {},
     "output_type": "execute_result"
    }
   ],
   "source": [
    "df.isna().sum()"
   ]
  },
  {
   "cell_type": "code",
   "execution_count": 5,
   "id": "de2a9c71-88c8-478f-ab38-f5b932fa40e7",
   "metadata": {},
   "outputs": [
    {
     "data": {
      "text/plain": [
       "5241"
      ]
     },
     "execution_count": 5,
     "metadata": {},
     "output_type": "execute_result"
    }
   ],
   "source": [
    "df.duplicated().sum()"
   ]
  },
  {
   "cell_type": "code",
   "execution_count": 6,
   "id": "23033f90-d279-4de3-b600-44329735b4dd",
   "metadata": {},
   "outputs": [],
   "source": [
    "df.drop_duplicates(inplace=True)"
   ]
  },
  {
   "cell_type": "code",
   "execution_count": 7,
   "id": "8a021ab3-85e1-4510-9423-5d9dfa5b16fe",
   "metadata": {},
   "outputs": [
    {
     "data": {
      "text/plain": [
       "0"
      ]
     },
     "execution_count": 7,
     "metadata": {},
     "output_type": "execute_result"
    }
   ],
   "source": [
    "df.duplicated().sum()"
   ]
  },
  {
   "cell_type": "markdown",
   "id": "08c7f030-37bd-42f1-8b91-c903f30a301a",
   "metadata": {},
   "source": [
    "## Bed & Bath column missing values handling"
   ]
  },
  {
   "cell_type": "code",
   "execution_count": 19,
   "id": "20a0f442-bdd2-4233-b55f-ca0fc6868fab",
   "metadata": {},
   "outputs": [
    {
     "data": {
      "text/html": [
       "<div>\n",
       "<style scoped>\n",
       "    .dataframe tbody tr th:only-of-type {\n",
       "        vertical-align: middle;\n",
       "    }\n",
       "\n",
       "    .dataframe tbody tr th {\n",
       "        vertical-align: top;\n",
       "    }\n",
       "\n",
       "    .dataframe thead th {\n",
       "        text-align: right;\n",
       "    }\n",
       "</style>\n",
       "<table border=\"1\" class=\"dataframe\">\n",
       "  <thead>\n",
       "    <tr style=\"text-align: right;\">\n",
       "      <th></th>\n",
       "      <th>nav-link href</th>\n",
       "      <th>listing-location</th>\n",
       "      <th>price</th>\n",
       "      <th>bed</th>\n",
       "      <th>bath</th>\n",
       "      <th>listing-floorarea</th>\n",
       "      <th>listing-floorarea 2</th>\n",
       "    </tr>\n",
       "  </thead>\n",
       "  <tbody>\n",
       "    <tr>\n",
       "      <th>52</th>\n",
       "      <td>https://www.rumah.com/listing-properti/dijual-...</td>\n",
       "      <td>Jl Jombang Raya Bintaro Ciputat, Ciputat, Tang...</td>\n",
       "      <td>1,43 M</td>\n",
       "      <td>NaN</td>\n",
       "      <td>NaN</td>\n",
       "      <td>94 mĠ</td>\n",
       "      <td>Rp 20.140.845 per mĠ</td>\n",
       "    </tr>\n",
       "    <tr>\n",
       "      <th>232</th>\n",
       "      <td>https://www.rumah.com/listing-properti/dijual-...</td>\n",
       "      <td>Jl. Merak no. 10B Komplek Pajak Jurangmangu Ti...</td>\n",
       "      <td>690 jt</td>\n",
       "      <td>2.0</td>\n",
       "      <td>NaN</td>\n",
       "      <td>36 mĠ</td>\n",
       "      <td>Rp 11.500.000 per mĠ</td>\n",
       "    </tr>\n",
       "    <tr>\n",
       "      <th>285</th>\n",
       "      <td>https://www.rumah.com/listing-properti/dijual-...</td>\n",
       "      <td>Bintaro, Tangerang Selatan, Banten</td>\n",
       "      <td>2 M</td>\n",
       "      <td>NaN</td>\n",
       "      <td>NaN</td>\n",
       "      <td>162 mĠ</td>\n",
       "      <td>Rp 18.181.818 per mĠ</td>\n",
       "    </tr>\n",
       "    <tr>\n",
       "      <th>328</th>\n",
       "      <td>https://www.rumah.com/listing-properti/dijual-...</td>\n",
       "      <td>Plumeria GR 23, Pondok Aren, Tangerang Selatan...</td>\n",
       "      <td>1,2 M</td>\n",
       "      <td>NaN</td>\n",
       "      <td>NaN</td>\n",
       "      <td>69 mĠ</td>\n",
       "      <td>Rp 20.000.000 per mĠ</td>\n",
       "    </tr>\n",
       "    <tr>\n",
       "      <th>474</th>\n",
       "      <td>https://www.rumah.com/listing-properti/dijual-...</td>\n",
       "      <td>jl lengkong wetan, Serpong, Tangerang Selatan,...</td>\n",
       "      <td>1,5 M</td>\n",
       "      <td>4.0</td>\n",
       "      <td>3.0</td>\n",
       "      <td>72 mĠ</td>\n",
       "      <td>NaN</td>\n",
       "    </tr>\n",
       "    <tr>\n",
       "      <th>...</th>\n",
       "      <td>...</td>\n",
       "      <td>...</td>\n",
       "      <td>...</td>\n",
       "      <td>...</td>\n",
       "      <td>...</td>\n",
       "      <td>...</td>\n",
       "      <td>...</td>\n",
       "    </tr>\n",
       "    <tr>\n",
       "      <th>27233</th>\n",
       "      <td>https://www.rumah.com/listing-properti/dijual-...</td>\n",
       "      <td>Bintaro, Tangerang Selatan, Banten</td>\n",
       "      <td>45 M</td>\n",
       "      <td>NaN</td>\n",
       "      <td>NaN</td>\n",
       "      <td>3000 mĠ</td>\n",
       "      <td>Rp 35.828.025 per mĠ</td>\n",
       "    </tr>\n",
       "    <tr>\n",
       "      <th>27957</th>\n",
       "      <td>https://www.rumah.com/listing-properti/dijual-...</td>\n",
       "      <td>Jl. Raya Jombang, Pondok Aren, Tangerang Selat...</td>\n",
       "      <td>1,5 M</td>\n",
       "      <td>NaN</td>\n",
       "      <td>NaN</td>\n",
       "      <td>70 mĠ</td>\n",
       "      <td>Rp 9.375.000 per mĠ</td>\n",
       "    </tr>\n",
       "    <tr>\n",
       "      <th>28201</th>\n",
       "      <td>https://www.rumah.com/listing-properti/dijual-...</td>\n",
       "      <td>Alam Sutera, Tangerang Selatan, Banten</td>\n",
       "      <td>3,3 M</td>\n",
       "      <td>5.0</td>\n",
       "      <td>NaN</td>\n",
       "      <td>149 mĠ</td>\n",
       "      <td>Rp 14.224.138 per mĠ</td>\n",
       "    </tr>\n",
       "    <tr>\n",
       "      <th>28805</th>\n",
       "      <td>https://www.rumah.com/listing-properti/dijual-...</td>\n",
       "      <td>Gading Serpong, Tangerang Selatan, Banten</td>\n",
       "      <td>600 jt</td>\n",
       "      <td>2.0</td>\n",
       "      <td>1.0</td>\n",
       "      <td>60 mĠ</td>\n",
       "      <td>NaN</td>\n",
       "    </tr>\n",
       "    <tr>\n",
       "      <th>29344</th>\n",
       "      <td>https://www.rumah.com/listing-properti/dijual-...</td>\n",
       "      <td>Jl. Puspitek, BSD, Tangerang Selatan, Banten</td>\n",
       "      <td>5,5 M</td>\n",
       "      <td>5.0</td>\n",
       "      <td>6.0</td>\n",
       "      <td>200 mĠ</td>\n",
       "      <td>NaN</td>\n",
       "    </tr>\n",
       "  </tbody>\n",
       "</table>\n",
       "<p>195 rows × 7 columns</p>\n",
       "</div>"
      ],
      "text/plain": [
       "                                           nav-link href  \\\n",
       "52     https://www.rumah.com/listing-properti/dijual-...   \n",
       "232    https://www.rumah.com/listing-properti/dijual-...   \n",
       "285    https://www.rumah.com/listing-properti/dijual-...   \n",
       "328    https://www.rumah.com/listing-properti/dijual-...   \n",
       "474    https://www.rumah.com/listing-properti/dijual-...   \n",
       "...                                                  ...   \n",
       "27233  https://www.rumah.com/listing-properti/dijual-...   \n",
       "27957  https://www.rumah.com/listing-properti/dijual-...   \n",
       "28201  https://www.rumah.com/listing-properti/dijual-...   \n",
       "28805  https://www.rumah.com/listing-properti/dijual-...   \n",
       "29344  https://www.rumah.com/listing-properti/dijual-...   \n",
       "\n",
       "                                        listing-location   price  bed  bath  \\\n",
       "52     Jl Jombang Raya Bintaro Ciputat, Ciputat, Tang...  1,43 M  NaN   NaN   \n",
       "232    Jl. Merak no. 10B Komplek Pajak Jurangmangu Ti...  690 jt  2.0   NaN   \n",
       "285                   Bintaro, Tangerang Selatan, Banten     2 M  NaN   NaN   \n",
       "328    Plumeria GR 23, Pondok Aren, Tangerang Selatan...   1,2 M  NaN   NaN   \n",
       "474    jl lengkong wetan, Serpong, Tangerang Selatan,...   1,5 M  4.0   3.0   \n",
       "...                                                  ...     ...  ...   ...   \n",
       "27233                 Bintaro, Tangerang Selatan, Banten    45 M  NaN   NaN   \n",
       "27957  Jl. Raya Jombang, Pondok Aren, Tangerang Selat...   1,5 M  NaN   NaN   \n",
       "28201             Alam Sutera, Tangerang Selatan, Banten   3,3 M  5.0   NaN   \n",
       "28805          Gading Serpong, Tangerang Selatan, Banten  600 jt  2.0   1.0   \n",
       "29344       Jl. Puspitek, BSD, Tangerang Selatan, Banten   5,5 M  5.0   6.0   \n",
       "\n",
       "      listing-floorarea   listing-floorarea 2  \n",
       "52                94 mĠ  Rp 20.140.845 per mĠ  \n",
       "232               36 mĠ  Rp 11.500.000 per mĠ  \n",
       "285              162 mĠ  Rp 18.181.818 per mĠ  \n",
       "328               69 mĠ  Rp 20.000.000 per mĠ  \n",
       "474               72 mĠ                   NaN  \n",
       "...                 ...                   ...  \n",
       "27233           3000 mĠ  Rp 35.828.025 per mĠ  \n",
       "27957             70 mĠ   Rp 9.375.000 per mĠ  \n",
       "28201            149 mĠ  Rp 14.224.138 per mĠ  \n",
       "28805             60 mĠ                   NaN  \n",
       "29344            200 mĠ                   NaN  \n",
       "\n",
       "[195 rows x 7 columns]"
      ]
     },
     "execution_count": 19,
     "metadata": {},
     "output_type": "execute_result"
    }
   ],
   "source": [
    "df[df.isna().any(axis=1)]"
   ]
  },
  {
   "cell_type": "code",
   "execution_count": 21,
   "id": "724b6fd1-2f14-42e3-b51b-6a487eafe1bf",
   "metadata": {},
   "outputs": [
    {
     "data": {
      "text/html": [
       "<div>\n",
       "<style scoped>\n",
       "    .dataframe tbody tr th:only-of-type {\n",
       "        vertical-align: middle;\n",
       "    }\n",
       "\n",
       "    .dataframe tbody tr th {\n",
       "        vertical-align: top;\n",
       "    }\n",
       "\n",
       "    .dataframe thead th {\n",
       "        text-align: right;\n",
       "    }\n",
       "</style>\n",
       "<table border=\"1\" class=\"dataframe\">\n",
       "  <thead>\n",
       "    <tr style=\"text-align: right;\">\n",
       "      <th></th>\n",
       "      <th>nav-link href</th>\n",
       "      <th>listing-location</th>\n",
       "      <th>price</th>\n",
       "      <th>bed</th>\n",
       "      <th>bath</th>\n",
       "      <th>listing-floorarea</th>\n",
       "      <th>listing-floorarea 2</th>\n",
       "    </tr>\n",
       "  </thead>\n",
       "  <tbody>\n",
       "    <tr>\n",
       "      <th>52</th>\n",
       "      <td>https://www.rumah.com/listing-properti/dijual-...</td>\n",
       "      <td>Jl Jombang Raya Bintaro Ciputat, Ciputat, Tang...</td>\n",
       "      <td>1,43 M</td>\n",
       "      <td>NaN</td>\n",
       "      <td>NaN</td>\n",
       "      <td>94 mĠ</td>\n",
       "      <td>Rp 20.140.845 per mĠ</td>\n",
       "    </tr>\n",
       "    <tr>\n",
       "      <th>285</th>\n",
       "      <td>https://www.rumah.com/listing-properti/dijual-...</td>\n",
       "      <td>Bintaro, Tangerang Selatan, Banten</td>\n",
       "      <td>2 M</td>\n",
       "      <td>NaN</td>\n",
       "      <td>NaN</td>\n",
       "      <td>162 mĠ</td>\n",
       "      <td>Rp 18.181.818 per mĠ</td>\n",
       "    </tr>\n",
       "    <tr>\n",
       "      <th>328</th>\n",
       "      <td>https://www.rumah.com/listing-properti/dijual-...</td>\n",
       "      <td>Plumeria GR 23, Pondok Aren, Tangerang Selatan...</td>\n",
       "      <td>1,2 M</td>\n",
       "      <td>NaN</td>\n",
       "      <td>NaN</td>\n",
       "      <td>69 mĠ</td>\n",
       "      <td>Rp 20.000.000 per mĠ</td>\n",
       "    </tr>\n",
       "    <tr>\n",
       "      <th>633</th>\n",
       "      <td>https://www.rumah.com/listing-properti/dijual-...</td>\n",
       "      <td>BSD, Tangerang Selatan, Banten</td>\n",
       "      <td>19,5 M</td>\n",
       "      <td>NaN</td>\n",
       "      <td>NaN</td>\n",
       "      <td>151 mĠ</td>\n",
       "      <td>Rp 29.862.175 per mĠ</td>\n",
       "    </tr>\n",
       "    <tr>\n",
       "      <th>923</th>\n",
       "      <td>https://www.rumah.com/listing-properti/dijual-...</td>\n",
       "      <td>Jl. Discovery Aluvia, Pondok Aren, Tangerang S...</td>\n",
       "      <td>3,159 M</td>\n",
       "      <td>NaN</td>\n",
       "      <td>NaN</td>\n",
       "      <td>110 mĠ</td>\n",
       "      <td>Rp 35.100.000 per mĠ</td>\n",
       "    </tr>\n",
       "    <tr>\n",
       "      <th>...</th>\n",
       "      <td>...</td>\n",
       "      <td>...</td>\n",
       "      <td>...</td>\n",
       "      <td>...</td>\n",
       "      <td>...</td>\n",
       "      <td>...</td>\n",
       "      <td>...</td>\n",
       "    </tr>\n",
       "    <tr>\n",
       "      <th>27026</th>\n",
       "      <td>https://www.rumah.com/listing-properti/dijual-...</td>\n",
       "      <td>Perumahan bukit mas, Bintaro, Tangerang Selata...</td>\n",
       "      <td>6 M</td>\n",
       "      <td>NaN</td>\n",
       "      <td>NaN</td>\n",
       "      <td>275 mĠ</td>\n",
       "      <td>Rp 12.000.000 per mĠ</td>\n",
       "    </tr>\n",
       "    <tr>\n",
       "      <th>27029</th>\n",
       "      <td>https://www.rumah.com/listing-properti/dijual-...</td>\n",
       "      <td>Ciputat, Tangerang Selatan, Banten</td>\n",
       "      <td>1,8 M</td>\n",
       "      <td>NaN</td>\n",
       "      <td>NaN</td>\n",
       "      <td>130 mĠ</td>\n",
       "      <td>Rp 12.676.056 per mĠ</td>\n",
       "    </tr>\n",
       "    <tr>\n",
       "      <th>27150</th>\n",
       "      <td>https://www.rumah.com/listing-properti/dijual-...</td>\n",
       "      <td>Bintaro, Tangerang Selatan, Banten</td>\n",
       "      <td>6,5 M</td>\n",
       "      <td>NaN</td>\n",
       "      <td>NaN</td>\n",
       "      <td>300 mĠ</td>\n",
       "      <td>Rp 18.258.427 per mĠ</td>\n",
       "    </tr>\n",
       "    <tr>\n",
       "      <th>27233</th>\n",
       "      <td>https://www.rumah.com/listing-properti/dijual-...</td>\n",
       "      <td>Bintaro, Tangerang Selatan, Banten</td>\n",
       "      <td>45 M</td>\n",
       "      <td>NaN</td>\n",
       "      <td>NaN</td>\n",
       "      <td>3000 mĠ</td>\n",
       "      <td>Rp 35.828.025 per mĠ</td>\n",
       "    </tr>\n",
       "    <tr>\n",
       "      <th>27957</th>\n",
       "      <td>https://www.rumah.com/listing-properti/dijual-...</td>\n",
       "      <td>Jl. Raya Jombang, Pondok Aren, Tangerang Selat...</td>\n",
       "      <td>1,5 M</td>\n",
       "      <td>NaN</td>\n",
       "      <td>NaN</td>\n",
       "      <td>70 mĠ</td>\n",
       "      <td>Rp 9.375.000 per mĠ</td>\n",
       "    </tr>\n",
       "  </tbody>\n",
       "</table>\n",
       "<p>110 rows × 7 columns</p>\n",
       "</div>"
      ],
      "text/plain": [
       "                                           nav-link href  \\\n",
       "52     https://www.rumah.com/listing-properti/dijual-...   \n",
       "285    https://www.rumah.com/listing-properti/dijual-...   \n",
       "328    https://www.rumah.com/listing-properti/dijual-...   \n",
       "633    https://www.rumah.com/listing-properti/dijual-...   \n",
       "923    https://www.rumah.com/listing-properti/dijual-...   \n",
       "...                                                  ...   \n",
       "27026  https://www.rumah.com/listing-properti/dijual-...   \n",
       "27029  https://www.rumah.com/listing-properti/dijual-...   \n",
       "27150  https://www.rumah.com/listing-properti/dijual-...   \n",
       "27233  https://www.rumah.com/listing-properti/dijual-...   \n",
       "27957  https://www.rumah.com/listing-properti/dijual-...   \n",
       "\n",
       "                                        listing-location    price  bed  bath  \\\n",
       "52     Jl Jombang Raya Bintaro Ciputat, Ciputat, Tang...   1,43 M  NaN   NaN   \n",
       "285                   Bintaro, Tangerang Selatan, Banten      2 M  NaN   NaN   \n",
       "328    Plumeria GR 23, Pondok Aren, Tangerang Selatan...    1,2 M  NaN   NaN   \n",
       "633                       BSD, Tangerang Selatan, Banten   19,5 M  NaN   NaN   \n",
       "923    Jl. Discovery Aluvia, Pondok Aren, Tangerang S...  3,159 M  NaN   NaN   \n",
       "...                                                  ...      ...  ...   ...   \n",
       "27026  Perumahan bukit mas, Bintaro, Tangerang Selata...      6 M  NaN   NaN   \n",
       "27029                 Ciputat, Tangerang Selatan, Banten    1,8 M  NaN   NaN   \n",
       "27150                 Bintaro, Tangerang Selatan, Banten    6,5 M  NaN   NaN   \n",
       "27233                 Bintaro, Tangerang Selatan, Banten     45 M  NaN   NaN   \n",
       "27957  Jl. Raya Jombang, Pondok Aren, Tangerang Selat...    1,5 M  NaN   NaN   \n",
       "\n",
       "      listing-floorarea   listing-floorarea 2  \n",
       "52                94 mĠ  Rp 20.140.845 per mĠ  \n",
       "285              162 mĠ  Rp 18.181.818 per mĠ  \n",
       "328               69 mĠ  Rp 20.000.000 per mĠ  \n",
       "633              151 mĠ  Rp 29.862.175 per mĠ  \n",
       "923              110 mĠ  Rp 35.100.000 per mĠ  \n",
       "...                 ...                   ...  \n",
       "27026            275 mĠ  Rp 12.000.000 per mĠ  \n",
       "27029            130 mĠ  Rp 12.676.056 per mĠ  \n",
       "27150            300 mĠ  Rp 18.258.427 per mĠ  \n",
       "27233           3000 mĠ  Rp 35.828.025 per mĠ  \n",
       "27957             70 mĠ   Rp 9.375.000 per mĠ  \n",
       "\n",
       "[110 rows x 7 columns]"
      ]
     },
     "execution_count": 21,
     "metadata": {},
     "output_type": "execute_result"
    }
   ],
   "source": [
    "df[df[\"bed\"].isna() & df[\"bath\"].isna()]"
   ]
  },
  {
   "cell_type": "code",
   "execution_count": 23,
   "id": "cb0404fd-bd41-427b-8bf6-9cafa0eb837e",
   "metadata": {},
   "outputs": [],
   "source": [
    "df.dropna(inplace=True)"
   ]
  },
  {
   "cell_type": "code",
   "execution_count": 25,
   "id": "c9e5d559-64e8-4dd9-82b4-ad2c555989fc",
   "metadata": {},
   "outputs": [
    {
     "data": {
      "text/plain": [
       "(23984, 7)"
      ]
     },
     "execution_count": 25,
     "metadata": {},
     "output_type": "execute_result"
    }
   ],
   "source": [
    "df.shape"
   ]
  },
  {
   "cell_type": "code",
   "execution_count": 31,
   "id": "99042a50-9f50-4e49-a294-8cdacb942ad2",
   "metadata": {},
   "outputs": [
    {
     "data": {
      "text/plain": [
       "nav-link href          0\n",
       "listing-location       0\n",
       "price                  0\n",
       "bed                    0\n",
       "bath                   0\n",
       "listing-floorarea      0\n",
       "listing-floorarea 2    0\n",
       "dtype: int64"
      ]
     },
     "execution_count": 31,
     "metadata": {},
     "output_type": "execute_result"
    }
   ],
   "source": [
    "df.isna().sum()"
   ]
  },
  {
   "cell_type": "code",
   "execution_count": 35,
   "id": "e74ec54f-c011-4235-99e7-8bf8e7258f14",
   "metadata": {},
   "outputs": [
    {
     "data": {
      "text/plain": [
       "23984"
      ]
     },
     "execution_count": 35,
     "metadata": {},
     "output_type": "execute_result"
    }
   ],
   "source": [
    "29420 -5241 -195"
   ]
  },
  {
   "cell_type": "code",
   "execution_count": null,
   "id": "80092ad9-64b2-4041-b0b3-f30348ebe2ab",
   "metadata": {},
   "outputs": [],
   "source": []
  }
 ],
 "metadata": {
  "kernelspec": {
   "display_name": "Python 3 (ipykernel)",
   "language": "python",
   "name": "python3"
  },
  "language_info": {
   "codemirror_mode": {
    "name": "ipython",
    "version": 3
   },
   "file_extension": ".py",
   "mimetype": "text/x-python",
   "name": "python",
   "nbconvert_exporter": "python",
   "pygments_lexer": "ipython3",
   "version": "3.12.4"
  }
 },
 "nbformat": 4,
 "nbformat_minor": 5
}
